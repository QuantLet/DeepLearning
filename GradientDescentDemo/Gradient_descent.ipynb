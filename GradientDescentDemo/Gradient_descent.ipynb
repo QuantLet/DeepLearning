{
 "cells": [
  {
   "cell_type": "code",
   "execution_count": 16,
   "id": "382c6d6e-c383-4e50-ab78-2a86b3e2af00",
   "metadata": {},
   "outputs": [
    {
     "name": "stdout",
     "output_type": "stream",
     "text": [
      "GIF saved as 'gradient_descent_demo.gif'\n"
     ]
    }
   ],
   "source": [
    "import numpy as np\n",
    "import matplotlib.pyplot as plt\n",
    "from matplotlib.patches import FancyArrow\n",
    "from matplotlib.animation import FuncAnimation, PillowWriter\n",
    "\n",
    "# Function: f(x) = x^2\n",
    "def f(x):\n",
    "    return x**2\n",
    "\n",
    "# Derivative of the function: f'(x) = 2x\n",
    "def grad_f(x):\n",
    "    return 2 * x\n",
    "    \n",
    "def gradient_descent(learning_rate=0.1, x_start = 3.0, num_steps = 25):\n",
    "    # Store x values for the steps of gradient descent\n",
    "    x_values = [x_start]\n",
    "    for _ in range(num_steps):\n",
    "        x_next = x_values[-1] - learning_rate * grad_f(x_values[-1])\n",
    "        x_values.append(x_next)\n",
    "\n",
    "    # Create a transparent GIF\n",
    "    fig, ax = plt.subplots(figsize=(8, 6), dpi=100)\n",
    "    fig.patch.set_alpha(0)  # Transparent background\n",
    "    ax.set_facecolor(\"none\")\n",
    "\n",
    "    # Plot the function\n",
    "    x_range = np.linspace(-3.5, 3.5, 500)\n",
    "    ax.plot(x_range, f(x_range), label=r\"$f(x) = x^2$\", color=\"blue\", zorder=1)\n",
    "\n",
    "    # Set limits and labels\n",
    "    ax.set_xlim(-3.5, 3.5)\n",
    "    ax.set_ylim(-0.5, 10)\n",
    "    ax.set_xlabel(\"w\", fontsize=14)\n",
    "    ax.set_ylabel(\"E=x\\u00b2\", fontsize=14)\n",
    "\n",
    "    # Function to update frames\n",
    "    points, = ax.plot([], [], \"o\", color=\"red\", zorder=2)\n",
    "    arrow = None\n",
    "\n",
    "    def update(frame):\n",
    "        nonlocal arrow\n",
    "        if arrow:\n",
    "            arrow.remove()\n",
    "        points.set_data(x_values[:frame + 1], [f(x) for x in x_values[:frame + 1]])\n",
    "\n",
    "        if frame > 0:\n",
    "            x_prev, x_curr = x_values[frame - 1], x_values[frame]\n",
    "            y_prev, y_curr = f(x_prev), f(x_curr)\n",
    "            dx, dy = x_curr - x_prev, y_curr - y_prev\n",
    "            arrow = FancyArrow(\n",
    "                x_prev,\n",
    "                y_prev,\n",
    "                dx,\n",
    "                dy,\n",
    "                width=0.05,\n",
    "                color=\"green\",\n",
    "                length_includes_head=True,\n",
    "                zorder=3,\n",
    "            )\n",
    "            ax.add_patch(arrow)\n",
    "        return points, arrow\n",
    "\n",
    "    # Create animation\n",
    "    ani = FuncAnimation(\n",
    "        fig, update, frames=len(x_values), interval=200, blit=False\n",
    "    )\n",
    "\n",
    "    # Save the animation as a transparent GIF\n",
    "    ani.save(\"gradient_descent_demo.gif\", writer=PillowWriter(fps=5), savefig_kwargs={\"transparent\": True})\n",
    "\n",
    "    plt.close(fig)\n",
    "    print(\"GIF saved as 'gradient_descent_demo.gif'\")\n",
    "\n",
    "# Run the function\n",
    "gradient_descent()\n"
   ]
  },
  {
   "cell_type": "code",
   "execution_count": null,
   "id": "8d12f911-c983-4ae5-81ef-7293db8f86b8",
   "metadata": {},
   "outputs": [],
   "source": []
  },
  {
   "cell_type": "code",
   "execution_count": null,
   "id": "bbfcbbc2-7aa1-4ae7-8c4b-9f217080ac87",
   "metadata": {},
   "outputs": [],
   "source": []
  }
 ],
 "metadata": {
  "kernelspec": {
   "display_name": "Python 3 (ipykernel)",
   "language": "python",
   "name": "python3"
  },
  "language_info": {
   "codemirror_mode": {
    "name": "ipython",
    "version": 3
   },
   "file_extension": ".py",
   "mimetype": "text/x-python",
   "name": "python",
   "nbconvert_exporter": "python",
   "pygments_lexer": "ipython3",
   "version": "3.12.4"
  }
 },
 "nbformat": 4,
 "nbformat_minor": 5
}
